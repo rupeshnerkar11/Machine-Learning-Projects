{
  "nbformat": 4,
  "nbformat_minor": 0,
  "metadata": {
    "colab": {
      "name": "M3_Car_Price Prediction",
      "provenance": [],
      "authorship_tag": "ABX9TyPcQ/Tcab7Ueh0w43wNjgI9",
      "include_colab_link": true
    },
    "kernelspec": {
      "display_name": "Python 3",
      "name": "python3"
    },
    "language_info": {
      "name": "python"
    }
  },
  "cells": [
    {
      "cell_type": "markdown",
      "metadata": {
        "id": "view-in-github",
        "colab_type": "text"
      },
      "source": [
        "<a href=\"https://colab.research.google.com/github/rupeshnerkar11/Machine-Learning-Projects/blob/main/M3_Car_Price_Prediction.ipynb\" target=\"_parent\"><img src=\"https://colab.research.google.com/assets/colab-badge.svg\" alt=\"Open In Colab\"/></a>"
      ]
    },
    {
      "cell_type": "code",
      "metadata": {
        "id": "y6R8oKl1Qctj"
      },
      "source": [
        "import pandas as pd \n",
        "import numpy as np \n",
        "from sklearn.preprocessing import LabelEncoder, OneHotEncoder\n",
        "from sklearn.compose import ColumnTransformer\n",
        "from sklearn.preprocessing import MinMaxScaler, StandardScaler\n",
        "from sklearn.model_selection import train_test_split\n",
        "from sklearn.ensemble import RandomForestRegressor\n",
        "from sklearn.tree import DecisionTreeRegressor\n",
        "from sklearn.svm import SVR\n",
        "from sklearn.linear_model import LinearRegression\n",
        "from sklearn.metrics import  mean_squared_error,accuracy_score,classification_report,confusion_matrix,r2_score"
      ],
      "execution_count": 3,
      "outputs": []
    },
    {
      "cell_type": "code",
      "metadata": {
        "colab": {
          "base_uri": "https://localhost:8080/",
          "height": 204
        },
        "id": "fmanSjaOQXco",
        "outputId": "3703fed9-373d-461f-d5b0-f2232e424d2e"
      },
      "source": [
        "df= pd.read_csv('/content/audi.csv')\n",
        "df.head()"
      ],
      "execution_count": 4,
      "outputs": [
        {
          "output_type": "execute_result",
          "data": {
            "text/html": [
              "<div>\n",
              "<style scoped>\n",
              "    .dataframe tbody tr th:only-of-type {\n",
              "        vertical-align: middle;\n",
              "    }\n",
              "\n",
              "    .dataframe tbody tr th {\n",
              "        vertical-align: top;\n",
              "    }\n",
              "\n",
              "    .dataframe thead th {\n",
              "        text-align: right;\n",
              "    }\n",
              "</style>\n",
              "<table border=\"1\" class=\"dataframe\">\n",
              "  <thead>\n",
              "    <tr style=\"text-align: right;\">\n",
              "      <th></th>\n",
              "      <th>model</th>\n",
              "      <th>year</th>\n",
              "      <th>transmission</th>\n",
              "      <th>mileage</th>\n",
              "      <th>fuelType</th>\n",
              "      <th>tax</th>\n",
              "      <th>mpg</th>\n",
              "      <th>engineSize</th>\n",
              "      <th>price</th>\n",
              "    </tr>\n",
              "  </thead>\n",
              "  <tbody>\n",
              "    <tr>\n",
              "      <th>0</th>\n",
              "      <td>A1</td>\n",
              "      <td>2017</td>\n",
              "      <td>Manual</td>\n",
              "      <td>15735</td>\n",
              "      <td>Petrol</td>\n",
              "      <td>150</td>\n",
              "      <td>55.4</td>\n",
              "      <td>1.4</td>\n",
              "      <td>12500</td>\n",
              "    </tr>\n",
              "    <tr>\n",
              "      <th>1</th>\n",
              "      <td>A6</td>\n",
              "      <td>2016</td>\n",
              "      <td>Automatic</td>\n",
              "      <td>36203</td>\n",
              "      <td>Diesel</td>\n",
              "      <td>20</td>\n",
              "      <td>64.2</td>\n",
              "      <td>2.0</td>\n",
              "      <td>16500</td>\n",
              "    </tr>\n",
              "    <tr>\n",
              "      <th>2</th>\n",
              "      <td>A1</td>\n",
              "      <td>2016</td>\n",
              "      <td>Manual</td>\n",
              "      <td>29946</td>\n",
              "      <td>Petrol</td>\n",
              "      <td>30</td>\n",
              "      <td>55.4</td>\n",
              "      <td>1.4</td>\n",
              "      <td>11000</td>\n",
              "    </tr>\n",
              "    <tr>\n",
              "      <th>3</th>\n",
              "      <td>A4</td>\n",
              "      <td>2017</td>\n",
              "      <td>Automatic</td>\n",
              "      <td>25952</td>\n",
              "      <td>Diesel</td>\n",
              "      <td>145</td>\n",
              "      <td>67.3</td>\n",
              "      <td>2.0</td>\n",
              "      <td>16800</td>\n",
              "    </tr>\n",
              "    <tr>\n",
              "      <th>4</th>\n",
              "      <td>A3</td>\n",
              "      <td>2019</td>\n",
              "      <td>Manual</td>\n",
              "      <td>1998</td>\n",
              "      <td>Petrol</td>\n",
              "      <td>145</td>\n",
              "      <td>49.6</td>\n",
              "      <td>1.0</td>\n",
              "      <td>17300</td>\n",
              "    </tr>\n",
              "  </tbody>\n",
              "</table>\n",
              "</div>"
            ],
            "text/plain": [
              "  model  year transmission  mileage fuelType  tax   mpg  engineSize  price\n",
              "0    A1  2017       Manual    15735   Petrol  150  55.4         1.4  12500\n",
              "1    A6  2016    Automatic    36203   Diesel   20  64.2         2.0  16500\n",
              "2    A1  2016       Manual    29946   Petrol   30  55.4         1.4  11000\n",
              "3    A4  2017    Automatic    25952   Diesel  145  67.3         2.0  16800\n",
              "4    A3  2019       Manual     1998   Petrol  145  49.6         1.0  17300"
            ]
          },
          "metadata": {},
          "execution_count": 4
        }
      ]
    },
    {
      "cell_type": "code",
      "metadata": {
        "colab": {
          "base_uri": "https://localhost:8080/"
        },
        "id": "NFIGqae0Q9nR",
        "outputId": "7f14a1dd-8516-4716-fc25-cfe338fc8e34"
      },
      "source": [
        "df.isnull().sum()"
      ],
      "execution_count": 6,
      "outputs": [
        {
          "output_type": "execute_result",
          "data": {
            "text/plain": [
              "model           0\n",
              "year            0\n",
              "transmission    0\n",
              "mileage         0\n",
              "fuelType        0\n",
              "tax             0\n",
              "mpg             0\n",
              "engineSize      0\n",
              "price           0\n",
              "dtype: int64"
            ]
          },
          "metadata": {},
          "execution_count": 6
        }
      ]
    },
    {
      "cell_type": "code",
      "metadata": {
        "colab": {
          "base_uri": "https://localhost:8080/"
        },
        "id": "8raFEAEkRGK2",
        "outputId": "9e887167-b6cc-47fc-92ce-74d44ea4644c"
      },
      "source": [
        "df.info()"
      ],
      "execution_count": 7,
      "outputs": [
        {
          "output_type": "stream",
          "name": "stdout",
          "text": [
            "<class 'pandas.core.frame.DataFrame'>\n",
            "RangeIndex: 10668 entries, 0 to 10667\n",
            "Data columns (total 9 columns):\n",
            " #   Column        Non-Null Count  Dtype  \n",
            "---  ------        --------------  -----  \n",
            " 0   model         10668 non-null  object \n",
            " 1   year          10668 non-null  int64  \n",
            " 2   transmission  10668 non-null  object \n",
            " 3   mileage       10668 non-null  int64  \n",
            " 4   fuelType      10668 non-null  object \n",
            " 5   tax           10668 non-null  int64  \n",
            " 6   mpg           10668 non-null  float64\n",
            " 7   engineSize    10668 non-null  float64\n",
            " 8   price         10668 non-null  int64  \n",
            "dtypes: float64(2), int64(4), object(3)\n",
            "memory usage: 750.2+ KB\n"
          ]
        }
      ]
    },
    {
      "cell_type": "code",
      "metadata": {
        "id": "b5EWfk7DRi0G"
      },
      "source": [
        "df1=df.drop(columns='year',axis=1)"
      ],
      "execution_count": 8,
      "outputs": []
    },
    {
      "cell_type": "code",
      "metadata": {
        "colab": {
          "base_uri": "https://localhost:8080/",
          "height": 148
        },
        "id": "nn7iAlF1RKWf",
        "outputId": "337c7272-7fdc-42d5-b894-1d3d9d879ec1"
      },
      "source": [
        "df1 = pd.get_dummies(df1)\n",
        "df1.head(2)"
      ],
      "execution_count": 9,
      "outputs": [
        {
          "output_type": "execute_result",
          "data": {
            "text/html": [
              "<div>\n",
              "<style scoped>\n",
              "    .dataframe tbody tr th:only-of-type {\n",
              "        vertical-align: middle;\n",
              "    }\n",
              "\n",
              "    .dataframe tbody tr th {\n",
              "        vertical-align: top;\n",
              "    }\n",
              "\n",
              "    .dataframe thead th {\n",
              "        text-align: right;\n",
              "    }\n",
              "</style>\n",
              "<table border=\"1\" class=\"dataframe\">\n",
              "  <thead>\n",
              "    <tr style=\"text-align: right;\">\n",
              "      <th></th>\n",
              "      <th>mileage</th>\n",
              "      <th>tax</th>\n",
              "      <th>mpg</th>\n",
              "      <th>engineSize</th>\n",
              "      <th>price</th>\n",
              "      <th>model_ A1</th>\n",
              "      <th>model_ A2</th>\n",
              "      <th>model_ A3</th>\n",
              "      <th>model_ A4</th>\n",
              "      <th>model_ A5</th>\n",
              "      <th>model_ A6</th>\n",
              "      <th>model_ A7</th>\n",
              "      <th>model_ A8</th>\n",
              "      <th>model_ Q2</th>\n",
              "      <th>model_ Q3</th>\n",
              "      <th>model_ Q5</th>\n",
              "      <th>model_ Q7</th>\n",
              "      <th>model_ Q8</th>\n",
              "      <th>model_ R8</th>\n",
              "      <th>model_ RS3</th>\n",
              "      <th>model_ RS4</th>\n",
              "      <th>model_ RS5</th>\n",
              "      <th>model_ RS6</th>\n",
              "      <th>model_ RS7</th>\n",
              "      <th>model_ S3</th>\n",
              "      <th>model_ S4</th>\n",
              "      <th>model_ S5</th>\n",
              "      <th>model_ S8</th>\n",
              "      <th>model_ SQ5</th>\n",
              "      <th>model_ SQ7</th>\n",
              "      <th>model_ TT</th>\n",
              "      <th>transmission_Automatic</th>\n",
              "      <th>transmission_Manual</th>\n",
              "      <th>transmission_Semi-Auto</th>\n",
              "      <th>fuelType_Diesel</th>\n",
              "      <th>fuelType_Hybrid</th>\n",
              "      <th>fuelType_Petrol</th>\n",
              "    </tr>\n",
              "  </thead>\n",
              "  <tbody>\n",
              "    <tr>\n",
              "      <th>0</th>\n",
              "      <td>15735</td>\n",
              "      <td>150</td>\n",
              "      <td>55.4</td>\n",
              "      <td>1.4</td>\n",
              "      <td>12500</td>\n",
              "      <td>1</td>\n",
              "      <td>0</td>\n",
              "      <td>0</td>\n",
              "      <td>0</td>\n",
              "      <td>0</td>\n",
              "      <td>0</td>\n",
              "      <td>0</td>\n",
              "      <td>0</td>\n",
              "      <td>0</td>\n",
              "      <td>0</td>\n",
              "      <td>0</td>\n",
              "      <td>0</td>\n",
              "      <td>0</td>\n",
              "      <td>0</td>\n",
              "      <td>0</td>\n",
              "      <td>0</td>\n",
              "      <td>0</td>\n",
              "      <td>0</td>\n",
              "      <td>0</td>\n",
              "      <td>0</td>\n",
              "      <td>0</td>\n",
              "      <td>0</td>\n",
              "      <td>0</td>\n",
              "      <td>0</td>\n",
              "      <td>0</td>\n",
              "      <td>0</td>\n",
              "      <td>0</td>\n",
              "      <td>1</td>\n",
              "      <td>0</td>\n",
              "      <td>0</td>\n",
              "      <td>0</td>\n",
              "      <td>1</td>\n",
              "    </tr>\n",
              "    <tr>\n",
              "      <th>1</th>\n",
              "      <td>36203</td>\n",
              "      <td>20</td>\n",
              "      <td>64.2</td>\n",
              "      <td>2.0</td>\n",
              "      <td>16500</td>\n",
              "      <td>0</td>\n",
              "      <td>0</td>\n",
              "      <td>0</td>\n",
              "      <td>0</td>\n",
              "      <td>0</td>\n",
              "      <td>1</td>\n",
              "      <td>0</td>\n",
              "      <td>0</td>\n",
              "      <td>0</td>\n",
              "      <td>0</td>\n",
              "      <td>0</td>\n",
              "      <td>0</td>\n",
              "      <td>0</td>\n",
              "      <td>0</td>\n",
              "      <td>0</td>\n",
              "      <td>0</td>\n",
              "      <td>0</td>\n",
              "      <td>0</td>\n",
              "      <td>0</td>\n",
              "      <td>0</td>\n",
              "      <td>0</td>\n",
              "      <td>0</td>\n",
              "      <td>0</td>\n",
              "      <td>0</td>\n",
              "      <td>0</td>\n",
              "      <td>0</td>\n",
              "      <td>1</td>\n",
              "      <td>0</td>\n",
              "      <td>0</td>\n",
              "      <td>1</td>\n",
              "      <td>0</td>\n",
              "      <td>0</td>\n",
              "    </tr>\n",
              "  </tbody>\n",
              "</table>\n",
              "</div>"
            ],
            "text/plain": [
              "   mileage  tax   mpg  ...  fuelType_Diesel  fuelType_Hybrid  fuelType_Petrol\n",
              "0    15735  150  55.4  ...                0                0                1\n",
              "1    36203   20  64.2  ...                1                0                0\n",
              "\n",
              "[2 rows x 37 columns]"
            ]
          },
          "metadata": {},
          "execution_count": 9
        }
      ]
    },
    {
      "cell_type": "code",
      "metadata": {
        "id": "PBNQ-gOTRiIW"
      },
      "source": [
        "features= df1.drop(columns=['price'],axis=1).values\n",
        "label= df1['price'].values"
      ],
      "execution_count": 10,
      "outputs": []
    },
    {
      "cell_type": "code",
      "metadata": {
        "id": "N_Sq6lCdRPZa"
      },
      "source": [
        "scalar = StandardScaler()"
      ],
      "execution_count": 11,
      "outputs": []
    },
    {
      "cell_type": "code",
      "metadata": {
        "id": "GzmdbWkESIjR"
      },
      "source": [
        "features= scalar.fit_transform(features)"
      ],
      "execution_count": 12,
      "outputs": []
    },
    {
      "cell_type": "code",
      "metadata": {
        "colab": {
          "base_uri": "https://localhost:8080/"
        },
        "id": "cCw1yhZ_19A7",
        "outputId": "dc021e01-ddd3-42b7-f0bd-a1eea20c9690"
      },
      "source": [
        "features.reshape(1,-1)"
      ],
      "execution_count": 13,
      "outputs": [
        {
          "output_type": "execute_result",
          "data": {
            "text/plain": [
              "array([[-0.3868356 ,  0.35714729,  0.35755001, ..., -1.04664348,\n",
              "        -0.05129892,  1.05216498]])"
            ]
          },
          "metadata": {},
          "execution_count": 13
        }
      ]
    },
    {
      "cell_type": "code",
      "metadata": {
        "colab": {
          "base_uri": "https://localhost:8080/"
        },
        "id": "7EgZOZkJSStk",
        "outputId": "e659fd49-5754-4640-f225-b63b5a518c53"
      },
      "source": [
        "label\n"
      ],
      "execution_count": 14,
      "outputs": [
        {
          "output_type": "execute_result",
          "data": {
            "text/plain": [
              "array([12500, 16500, 11000, ..., 17199, 19499, 15999])"
            ]
          },
          "metadata": {},
          "execution_count": 14
        }
      ]
    },
    {
      "cell_type": "code",
      "metadata": {
        "id": "UnKF7NNzUqlb"
      },
      "source": [
        "X_train,X_test,y_train,y_test = train_test_split( features,\n",
        "                                                 label,\n",
        "                                                 test_size=0.2,\n",
        "                                                 random_state=22)"
      ],
      "execution_count": 15,
      "outputs": []
    },
    {
      "cell_type": "markdown",
      "metadata": {
        "id": "caBI0tNRaEqT"
      },
      "source": [
        "# Linear Regression"
      ]
    },
    {
      "cell_type": "code",
      "metadata": {
        "colab": {
          "base_uri": "https://localhost:8080/"
        },
        "id": "yk8XD4LZSeDa",
        "outputId": "75c9c3e6-edf2-41e2-adb5-0de8d74cfc52"
      },
      "source": [
        "\n",
        "\n",
        "model = LinearRegression()\n",
        "model.fit(X_train, y_train)\n",
        "\n",
        "trainscore= model.score(X_train, y_train)\n",
        "testscore = model.score(X_test, y_test)\n",
        "\n",
        "print(\"Training Score:{}, \\n\\nTesting Score:{}  \".format(trainscore,testscore))"
      ],
      "execution_count": 16,
      "outputs": [
        {
          "output_type": "stream",
          "name": "stdout",
          "text": [
            "Training Score:0.8496113992119119, \n",
            "\n",
            "Testing Score:0.8710888570404773  \n"
          ]
        }
      ]
    },
    {
      "cell_type": "markdown",
      "metadata": {
        "id": "1W0iZlMJAGXC"
      },
      "source": [
        "### Accuracy Score : Accuracy Score is 87.10888570404774 % "
      ]
    },
    {
      "cell_type": "code",
      "metadata": {
        "colab": {
          "base_uri": "https://localhost:8080/"
        },
        "id": "iaghkdhYAFK5",
        "outputId": "2b755449-af84-4b25-f23f-7ae418c1fdea"
      },
      "source": [
        "print('Accuracy Score is {} % '.format(model.score(X_test, y_test)*100))"
      ],
      "execution_count": 17,
      "outputs": [
        {
          "output_type": "stream",
          "name": "stdout",
          "text": [
            "Accuracy Score is 87.10888570404774 % \n"
          ]
        }
      ]
    },
    {
      "cell_type": "markdown",
      "metadata": {
        "id": "B6xnowrHaURO"
      },
      "source": [
        "# DecisionTreeRegressorModel"
      ]
    },
    {
      "cell_type": "code",
      "metadata": {
        "id": "1uRMhsS_y9Zp"
      },
      "source": [
        " DecisionTreeRegressorModel = DecisionTreeRegressor(max_depth=6,random_state=12)\n",
        "\n"
      ],
      "execution_count": 25,
      "outputs": []
    },
    {
      "cell_type": "markdown",
      "metadata": {
        "id": "fSickOSu3JiG"
      },
      "source": [
        "Using KFOLDcross Validation to get the proper spliting of data"
      ]
    },
    {
      "cell_type": "code",
      "metadata": {
        "id": "1nyyndz9y9jb"
      },
      "source": [
        "from sklearn.model_selection import  cross_val_score,KFold\n",
        "kfold = KFold(n_splits=50, shuffle=True, random_state=11)"
      ],
      "execution_count": 19,
      "outputs": []
    },
    {
      "cell_type": "code",
      "metadata": {
        "colab": {
          "base_uri": "https://localhost:8080/"
        },
        "id": "NMGQawSMzasH",
        "outputId": "52879374-3cab-4ea8-8f65-9b5093bc2e5c"
      },
      "source": [
        "i=0\n",
        "for train,test in kfold.split(features):\n",
        "  i=i+1\n",
        "  X_train,X_test = features[train], features[test]\n",
        "  y_train,y_test = label[train], label[test]\n",
        "  DecisionTreeRegressorModel.fit(X_train,y_train)\n",
        "  print('Testing Score: {} Training Score: {} for Sample Split : {} '.format(model.score(X_test,y_test),model.score(X_train,y_train),i))"
      ],
      "execution_count": 20,
      "outputs": [
        {
          "output_type": "stream",
          "name": "stdout",
          "text": [
            "Testing Score: 0.7808890184663447 Training Score: 0.855387451032724 for Sample Split : 1 \n",
            "Testing Score: 0.8186551732869548 Training Score: 0.8547970376624964 for Sample Split : 2 \n",
            "Testing Score: 0.8514983907683762 Training Score: 0.8543099283972078 for Sample Split : 3 \n",
            "Testing Score: 0.8165710017493242 Training Score: 0.8549659677115675 for Sample Split : 4 \n",
            "Testing Score: 0.8237974069671149 Training Score: 0.854667219353086 for Sample Split : 5 \n",
            "Testing Score: 0.7461951452610862 Training Score: 0.8564225961574196 for Sample Split : 6 \n",
            "Testing Score: 0.8040319326427381 Training Score: 0.8552610593322191 for Sample Split : 7 \n",
            "Testing Score: 0.8722813201581159 Training Score: 0.8540108974831603 for Sample Split : 8 \n",
            "Testing Score: 0.8396137352201796 Training Score: 0.8544669151429645 for Sample Split : 9 \n",
            "Testing Score: 0.7771438091235978 Training Score: 0.85603165440985 for Sample Split : 10 \n",
            "Testing Score: 0.7480782239309012 Training Score: 0.8559423919238813 for Sample Split : 11 \n",
            "Testing Score: 0.8628921602625733 Training Score: 0.8541317594150674 for Sample Split : 12 \n",
            "Testing Score: 0.8775434219199367 Training Score: 0.8536603151606093 for Sample Split : 13 \n",
            "Testing Score: 0.8815268344083916 Training Score: 0.8536537815135761 for Sample Split : 14 \n",
            "Testing Score: 0.8871647024358797 Training Score: 0.8535155538008448 for Sample Split : 15 \n",
            "Testing Score: 0.7935686120537673 Training Score: 0.8551792406217267 for Sample Split : 16 \n",
            "Testing Score: 0.840072219927992 Training Score: 0.8545339614772796 for Sample Split : 17 \n",
            "Testing Score: 0.8890826453225631 Training Score: 0.8536101228097659 for Sample Split : 18 \n",
            "Testing Score: 0.8661375973809154 Training Score: 0.8540218272424716 for Sample Split : 19 \n",
            "Testing Score: 0.8217321026985244 Training Score: 0.8548771698214241 for Sample Split : 20 \n",
            "Testing Score: 0.9002928525328341 Training Score: 0.8527468707787632 for Sample Split : 21 \n",
            "Testing Score: 0.8722497452102353 Training Score: 0.85370497565974 for Sample Split : 22 \n",
            "Testing Score: 0.8521538491840711 Training Score: 0.8542720786293971 for Sample Split : 23 \n",
            "Testing Score: 0.8568637990021778 Training Score: 0.854196832656548 for Sample Split : 24 \n",
            "Testing Score: 0.8766810094931159 Training Score: 0.8537142998848959 for Sample Split : 25 \n",
            "Testing Score: 0.881534594435911 Training Score: 0.8535864829976796 for Sample Split : 26 \n",
            "Testing Score: 0.8548721445741598 Training Score: 0.8542445789429249 for Sample Split : 27 \n",
            "Testing Score: 0.8699471423566831 Training Score: 0.8539009254745066 for Sample Split : 28 \n",
            "Testing Score: 0.8301047528699027 Training Score: 0.8546363026977947 for Sample Split : 29 \n",
            "Testing Score: 0.7818244717647485 Training Score: 0.8554727994416854 for Sample Split : 30 \n",
            "Testing Score: 0.8819386775389514 Training Score: 0.8533111741947211 for Sample Split : 31 \n",
            "Testing Score: 0.8673151840066139 Training Score: 0.8539710549591036 for Sample Split : 32 \n",
            "Testing Score: 0.8803629684811346 Training Score: 0.8536365644319689 for Sample Split : 33 \n",
            "Testing Score: 0.8520175722621572 Training Score: 0.8542933977778596 for Sample Split : 34 \n",
            "Testing Score: 0.8820971556197696 Training Score: 0.8536330043234167 for Sample Split : 35 \n",
            "Testing Score: 0.8461795092755264 Training Score: 0.8543697690974307 for Sample Split : 36 \n",
            "Testing Score: 0.8520679478223193 Training Score: 0.8542660739324842 for Sample Split : 37 \n",
            "Testing Score: 0.8880604969085785 Training Score: 0.8534203524087902 for Sample Split : 38 \n",
            "Testing Score: 0.9122605318416014 Training Score: 0.8525167838457532 for Sample Split : 39 \n",
            "Testing Score: 0.8428925809578998 Training Score: 0.8544473490161317 for Sample Split : 40 \n",
            "Testing Score: 0.8511878586498287 Training Score: 0.8543228995600374 for Sample Split : 41 \n",
            "Testing Score: 0.8971191797889843 Training Score: 0.8529753305320749 for Sample Split : 42 \n",
            "Testing Score: 0.8082883415238388 Training Score: 0.8550218369086289 for Sample Split : 43 \n",
            "Testing Score: 0.8678811165693555 Training Score: 0.8540396084984186 for Sample Split : 44 \n",
            "Testing Score: 0.8378216192107827 Training Score: 0.8545370737170618 for Sample Split : 45 \n",
            "Testing Score: 0.8472562369845461 Training Score: 0.8543821395006171 for Sample Split : 46 \n",
            "Testing Score: 0.8697843010640385 Training Score: 0.8538625334712557 for Sample Split : 47 \n",
            "Testing Score: 0.8608408158566347 Training Score: 0.8541356559714314 for Sample Split : 48 \n",
            "Testing Score: 0.8602206537204014 Training Score: 0.8541258865030544 for Sample Split : 49 \n",
            "Testing Score: 0.8872332873518789 Training Score: 0.8536260052682858 for Sample Split : 50 \n"
          ]
        }
      ]
    },
    {
      "cell_type": "code",
      "metadata": {
        "id": "_6CnhcLpzay4"
      },
      "source": [
        "\n",
        "\n",
        "i = 0 \n",
        "for train,test in kfold.split(features):\n",
        "    i = i + 1\n",
        "    if i == 1:\n",
        "        X_train_final,X_test_final,y_train_final,y_test_final = features[train],features[test],label[train],label[test]"
      ],
      "execution_count": 21,
      "outputs": []
    },
    {
      "cell_type": "code",
      "metadata": {
        "colab": {
          "base_uri": "https://localhost:8080/"
        },
        "id": "dGlaEuY75oJc",
        "outputId": "5a202e7d-d0ff-41d0-f9fd-a3e5986b640d"
      },
      "source": [
        "cvscore = cross_val_score(DecisionTreeRegressorModel,features,label,cv= kfold)\n",
        "cvscore.mean()"
      ],
      "execution_count": 26,
      "outputs": [
        {
          "output_type": "execute_result",
          "data": {
            "text/plain": [
              "0.8576827966593551"
            ]
          },
          "metadata": {},
          "execution_count": 26
        }
      ]
    },
    {
      "cell_type": "markdown",
      "metadata": {
        "id": "kxxNkk0t6CZ3"
      },
      "source": [
        "This is bench mark accracy score we must get more than this score"
      ]
    },
    {
      "cell_type": "code",
      "metadata": {
        "colab": {
          "base_uri": "https://localhost:8080/"
        },
        "id": "ydXqMP2wEHWk",
        "outputId": "e94b70e5-036c-45b4-9898-46df8360f14d"
      },
      "source": [
        "for i in range(0,160):\n",
        "  X_train_final,X_test_final,y_train_final,y_test_final = train_test_split(features,\n",
        "                                                label,\n",
        "                                                 test_size=.2,\n",
        "                                                 random_state=i)\n",
        "\n",
        "  DecisionTreeRegressorModel = DecisionTreeRegressor( max_depth=6,random_state=i)\n",
        "  \n",
        "  DecisionTreeRegressorModel.fit(X_train_final, y_train_final)\n",
        "\n",
        "  train_score=DecisionTreeRegressorModel.score(X_train_final, y_train_final)\n",
        "  test_score =DecisionTreeRegressorModel.score(X_test_final, y_test_final)\n",
        "\n",
        "  if  (train_score < test_score) & (test_score>.89):\n",
        "    print(\"Testing {}  Training {}  Random State {}\".format(test_score,train_score,i))\n",
        "                                                                                                        \n",
        "                                                                                                        "
      ],
      "execution_count": 50,
      "outputs": [
        {
          "output_type": "stream",
          "name": "stdout",
          "text": [
            "Testing 0.8928137585928243  Training 0.8868949672299347  Random State 36\n",
            "Testing 0.8903586212424633  Training 0.8899594065480029  Random State 111\n",
            "Testing 0.8936550912778425  Training 0.8891959923251486  Random State 125\n",
            "Testing 0.898297500304841  Training 0.8900811804869266  Random State 143\n",
            "Testing 0.8930714286011923  Training 0.8839261220525277  Random State 157\n"
          ]
        }
      ]
    },
    {
      "cell_type": "markdown",
      "metadata": {
        "id": "I3zrbMMnGOTe"
      },
      "source": [
        "Finally use random state as 143 to get highest accuracy score"
      ]
    },
    {
      "cell_type": "code",
      "metadata": {
        "colab": {
          "base_uri": "https://localhost:8080/"
        },
        "id": "jjQxpSWPWW2x",
        "outputId": "aeba2159-0b1d-4b18-f2e7-0560671772e0"
      },
      "source": [
        "X_train_final,X_test_final,y_train_final,y_test_final = train_test_split(features,\n",
        "                                                label,\n",
        "                                                 test_size=.2,\n",
        "                                                 random_state=143)\n",
        "\n",
        "DecisionTreeRegressorModel = DecisionTreeRegressor( max_depth=6,random_state=143)\n",
        "DecisionTreeRegressorModel.fit(X_train_final, y_train_final)\n",
        "\n",
        "print('DecisionTreeRegressor Train Score is : ' , DecisionTreeRegressorModel.score(X_train_final, y_train_final))\n",
        "print('DecisionTreeRegressor Test Score is : ' , DecisionTreeRegressorModel.score(X_test_final, y_test_final))"
      ],
      "execution_count": 52,
      "outputs": [
        {
          "output_type": "stream",
          "name": "stdout",
          "text": [
            "DecisionTreeRegressor Train Score is :  0.8900811804869266\n",
            "DecisionTreeRegressor Test Score is :  0.898297500304841\n"
          ]
        }
      ]
    },
    {
      "cell_type": "markdown",
      "metadata": {
        "id": "Zf7fwaIoG3ol"
      },
      "source": [
        "### Now our model is generalized "
      ]
    },
    {
      "cell_type": "code",
      "metadata": {
        "colab": {
          "base_uri": "https://localhost:8080/"
        },
        "id": "YOl38ZFlfu-r",
        "outputId": "6c0eddb9-c5f0-4bb5-ccfe-8b81d4b75812"
      },
      "source": [
        "print('Accuracy Score is {} % '.format(DecisionTreeRegressorModel.score(X_test_final, y_test_final)*100))"
      ],
      "execution_count": 53,
      "outputs": [
        {
          "output_type": "stream",
          "name": "stdout",
          "text": [
            "Accuracy Score is 89.8297500304841 % \n"
          ]
        }
      ]
    },
    {
      "cell_type": "markdown",
      "metadata": {
        "id": "RO5OYIEmBQZc"
      },
      "source": [
        "## Accuracy Score is 89.8297500304841 % "
      ]
    },
    {
      "cell_type": "markdown",
      "metadata": {
        "id": "PH9YpmSCakmH"
      },
      "source": [
        "#Random Forest Regressor\n",
        "\n"
      ]
    },
    {
      "cell_type": "code",
      "metadata": {
        "colab": {
          "base_uri": "https://localhost:8080/"
        },
        "id": "QU4LrD1hvPGg",
        "outputId": "9077639c-e2ae-43f4-d018-6354db6a9b36"
      },
      "source": [
        "rf = RandomForestRegressor()\n",
        "kfold = KFold(n_splits=50, shuffle=True, random_state=11)\n",
        "i=0\n",
        "for train,test in kfold.split(features):\n",
        "  i=i+1\n",
        "  X_train,X_test = features[train], features[test]\n",
        "  y_train,y_test = label[train], label[test]\n",
        "  DecisionTreeRegressorModel.fit(X_train,y_train)\n",
        "  print('Testing Score: {} Training Score: {} for Sample Split : {} '.format(model.score(X_test,y_test),model.score(X_train,y_train),i))"
      ],
      "execution_count": 54,
      "outputs": [
        {
          "output_type": "stream",
          "name": "stdout",
          "text": [
            "Testing Score: 0.7808890184663447 Training Score: 0.855387451032724 for Sample Split : 1 \n",
            "Testing Score: 0.8186551732869548 Training Score: 0.8547970376624964 for Sample Split : 2 \n",
            "Testing Score: 0.8514983907683762 Training Score: 0.8543099283972078 for Sample Split : 3 \n",
            "Testing Score: 0.8165710017493242 Training Score: 0.8549659677115675 for Sample Split : 4 \n",
            "Testing Score: 0.8237974069671149 Training Score: 0.854667219353086 for Sample Split : 5 \n",
            "Testing Score: 0.7461951452610862 Training Score: 0.8564225961574196 for Sample Split : 6 \n",
            "Testing Score: 0.8040319326427381 Training Score: 0.8552610593322191 for Sample Split : 7 \n",
            "Testing Score: 0.8722813201581159 Training Score: 0.8540108974831603 for Sample Split : 8 \n",
            "Testing Score: 0.8396137352201796 Training Score: 0.8544669151429645 for Sample Split : 9 \n",
            "Testing Score: 0.7771438091235978 Training Score: 0.85603165440985 for Sample Split : 10 \n",
            "Testing Score: 0.7480782239309012 Training Score: 0.8559423919238813 for Sample Split : 11 \n",
            "Testing Score: 0.8628921602625733 Training Score: 0.8541317594150674 for Sample Split : 12 \n",
            "Testing Score: 0.8775434219199367 Training Score: 0.8536603151606093 for Sample Split : 13 \n",
            "Testing Score: 0.8815268344083916 Training Score: 0.8536537815135761 for Sample Split : 14 \n",
            "Testing Score: 0.8871647024358797 Training Score: 0.8535155538008448 for Sample Split : 15 \n",
            "Testing Score: 0.7935686120537673 Training Score: 0.8551792406217267 for Sample Split : 16 \n",
            "Testing Score: 0.840072219927992 Training Score: 0.8545339614772796 for Sample Split : 17 \n",
            "Testing Score: 0.8890826453225631 Training Score: 0.8536101228097659 for Sample Split : 18 \n",
            "Testing Score: 0.8661375973809154 Training Score: 0.8540218272424716 for Sample Split : 19 \n",
            "Testing Score: 0.8217321026985244 Training Score: 0.8548771698214241 for Sample Split : 20 \n",
            "Testing Score: 0.9002928525328341 Training Score: 0.8527468707787632 for Sample Split : 21 \n",
            "Testing Score: 0.8722497452102353 Training Score: 0.85370497565974 for Sample Split : 22 \n",
            "Testing Score: 0.8521538491840711 Training Score: 0.8542720786293971 for Sample Split : 23 \n",
            "Testing Score: 0.8568637990021778 Training Score: 0.854196832656548 for Sample Split : 24 \n",
            "Testing Score: 0.8766810094931159 Training Score: 0.8537142998848959 for Sample Split : 25 \n",
            "Testing Score: 0.881534594435911 Training Score: 0.8535864829976796 for Sample Split : 26 \n",
            "Testing Score: 0.8548721445741598 Training Score: 0.8542445789429249 for Sample Split : 27 \n",
            "Testing Score: 0.8699471423566831 Training Score: 0.8539009254745066 for Sample Split : 28 \n",
            "Testing Score: 0.8301047528699027 Training Score: 0.8546363026977947 for Sample Split : 29 \n",
            "Testing Score: 0.7818244717647485 Training Score: 0.8554727994416854 for Sample Split : 30 \n",
            "Testing Score: 0.8819386775389514 Training Score: 0.8533111741947211 for Sample Split : 31 \n",
            "Testing Score: 0.8673151840066139 Training Score: 0.8539710549591036 for Sample Split : 32 \n",
            "Testing Score: 0.8803629684811346 Training Score: 0.8536365644319689 for Sample Split : 33 \n",
            "Testing Score: 0.8520175722621572 Training Score: 0.8542933977778596 for Sample Split : 34 \n",
            "Testing Score: 0.8820971556197696 Training Score: 0.8536330043234167 for Sample Split : 35 \n",
            "Testing Score: 0.8461795092755264 Training Score: 0.8543697690974307 for Sample Split : 36 \n",
            "Testing Score: 0.8520679478223193 Training Score: 0.8542660739324842 for Sample Split : 37 \n",
            "Testing Score: 0.8880604969085785 Training Score: 0.8534203524087902 for Sample Split : 38 \n",
            "Testing Score: 0.9122605318416014 Training Score: 0.8525167838457532 for Sample Split : 39 \n",
            "Testing Score: 0.8428925809578998 Training Score: 0.8544473490161317 for Sample Split : 40 \n",
            "Testing Score: 0.8511878586498287 Training Score: 0.8543228995600374 for Sample Split : 41 \n",
            "Testing Score: 0.8971191797889843 Training Score: 0.8529753305320749 for Sample Split : 42 \n",
            "Testing Score: 0.8082883415238388 Training Score: 0.8550218369086289 for Sample Split : 43 \n",
            "Testing Score: 0.8678811165693555 Training Score: 0.8540396084984186 for Sample Split : 44 \n",
            "Testing Score: 0.8378216192107827 Training Score: 0.8545370737170618 for Sample Split : 45 \n",
            "Testing Score: 0.8472562369845461 Training Score: 0.8543821395006171 for Sample Split : 46 \n",
            "Testing Score: 0.8697843010640385 Training Score: 0.8538625334712557 for Sample Split : 47 \n",
            "Testing Score: 0.8608408158566347 Training Score: 0.8541356559714314 for Sample Split : 48 \n",
            "Testing Score: 0.8602206537204014 Training Score: 0.8541258865030544 for Sample Split : 49 \n",
            "Testing Score: 0.8872332873518789 Training Score: 0.8536260052682858 for Sample Split : 50 \n"
          ]
        }
      ]
    },
    {
      "cell_type": "code",
      "metadata": {
        "id": "vq-RkfCeCAMn"
      },
      "source": [
        "i = 0 \n",
        "for train,test in kfold.split(features):\n",
        "    i = i + 1\n",
        "    if i == 1:\n",
        "        X_train_final,X_test_final,y_train_final,y_test_final = features[train],features[test],label[train],label[test]"
      ],
      "execution_count": 55,
      "outputs": []
    },
    {
      "cell_type": "markdown",
      "metadata": {
        "id": "UGJHiHrHSlam"
      },
      "source": [
        "## Using for loop trying to get generalised model by working on Random state and Max Depth"
      ]
    },
    {
      "cell_type": "code",
      "metadata": {
        "colab": {
          "base_uri": "https://localhost:8080/"
        },
        "id": "pUlq1ZidH5qw",
        "outputId": "2e25f7e9-f7e7-443f-fce4-188c0d2d00e0"
      },
      "source": [
        "for i in range(0,111):\n",
        "  X_train_final,X_test_final,y_train_final,y_test_final = train_test_split(features,\n",
        "                                                label,\n",
        "                                                 test_size=.2,\n",
        "                                                 random_state=i)\n",
        "\n",
        "  rf = RandomForestRegressor(n_estimators=80,\n",
        "                            criterion='mse',\n",
        "                            max_depth=9, \n",
        "                            min_samples_split=10,\n",
        "                            min_samples_leaf=1,\n",
        "                            min_weight_fraction_leaf=0.0,\n",
        "                            max_features='sqrt',\n",
        "                            max_leaf_nodes=None,\n",
        "                            min_impurity_decrease=0.0, \n",
        "                            min_impurity_split=None,\n",
        "                            bootstrap=True, \n",
        "                            \n",
        "                            oob_score=False, \n",
        "                            n_jobs=None, \n",
        "                            random_state=i, \n",
        "                            verbose=0, \n",
        "                            warm_start=False,\n",
        "                            ccp_alpha=0.0, \n",
        "                            max_samples=None)\n",
        "  rf.fit(X_train_final, y_train_final)\n",
        "\n",
        "  train_score=rf.score(X_train_final, y_train_final)\n",
        "  test_score =rf.score(X_test_final, y_test_final)\n",
        "\n",
        "  if  (train_score < test_score):\n",
        "    print(\"Testing {}  Training {}  Random State {}\".format(test_score,train_score,i))"
      ],
      "execution_count": 102,
      "outputs": [
        {
          "output_type": "stream",
          "name": "stdout",
          "text": [
            "Testing 0.9220521174043986  Training 0.9207693295995028  Random State 36\n",
            "Testing 0.9238951129349726  Training 0.9207303050985006  Random State 90\n"
          ]
        }
      ]
    },
    {
      "cell_type": "markdown",
      "metadata": {
        "id": "rgzPcJtiWFCN"
      },
      "source": [
        "# Random forest regressor MODEL"
      ]
    },
    {
      "cell_type": "code",
      "metadata": {
        "colab": {
          "base_uri": "https://localhost:8080/"
        },
        "id": "ZuOAe8luVaE0",
        "outputId": "13a6445e-d339-4320-a958-ebfe6b0ba4fd"
      },
      "source": [
        "X_train_final,X_test_final,y_train_final,y_test_final = train_test_split(features,\n",
        "                                                label,\n",
        "                                                 test_size=.2,\n",
        "                                                 random_state=90)\n",
        "rf = RandomForestRegressor(n_estimators=80,\n",
        "                            criterion='mse',\n",
        "                            max_depth=9, \n",
        "                            min_samples_split=10,\n",
        "                            min_samples_leaf=1,\n",
        "                            min_weight_fraction_leaf=0.0,\n",
        "                            max_features='sqrt',\n",
        "                            max_leaf_nodes=None,\n",
        "                            min_impurity_decrease=0.0, \n",
        "                            min_impurity_split=None,\n",
        "                            bootstrap=True, \n",
        "                            \n",
        "                            oob_score=False, \n",
        "                            n_jobs=None, \n",
        "                            random_state=90, \n",
        "                            verbose=0, \n",
        "                            warm_start=False,\n",
        "                            ccp_alpha=0.0, \n",
        "                            max_samples=None)\n",
        "rf.fit(X_train_final, y_train_final)\n",
        "train_score=rf.score(X_train_final, y_train_final)\n",
        "test_score =rf.score(X_test_final, y_test_final)\n",
        "print('Accuracy Score is {} % '.format(rf.score(X_test_final, y_test_final)*100))"
      ],
      "execution_count": 105,
      "outputs": [
        {
          "output_type": "stream",
          "name": "stdout",
          "text": [
            "Accuracy Score is 92.38951129349726 % \n"
          ]
        }
      ]
    },
    {
      "cell_type": "markdown",
      "metadata": {
        "id": "vnaR0_n3BGfp"
      },
      "source": [
        "## Accuracy Score is 92.38951129349726 % \n",
        "\n"
      ]
    }
  ]
}