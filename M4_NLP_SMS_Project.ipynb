{
  "nbformat": 4,
  "nbformat_minor": 0,
  "metadata": {
    "colab": {
      "name": "M4_NLP_SMS_Project.ipynb",
      "provenance": [],
      "authorship_tag": "ABX9TyOMDCt+uT+npQnFxFDhWG7V"
    },
    "kernelspec": {
      "name": "python3",
      "display_name": "Python 3"
    },
    "language_info": {
      "name": "python"
    }
  },
  "cells": [
    {
      "cell_type": "markdown",
      "metadata": {
        "id": "4tNU8vNMHlyZ"
      },
      "source": [
        "# Processing of a TEXT DATA using NLP\n",
        "\n",
        "\n",
        "\n",
        "1.   Text Preprocessing\n",
        "\n",
        "*   Removal of Punctuation Marks\n",
        "\n",
        "*   Removal of stop words\n",
        "\n",
        "*  Coversion of sentances into words\n",
        "\n",
        "\n",
        "\n",
        "\n",
        "2.  Bag of words ----Word counts\n",
        "\n",
        "3.  TF-IDF ----Creating frequency of words\n",
        "\n",
        "4.   ML Modelling\n",
        "\n",
        "\n",
        "\n",
        "\n",
        "\n"
      ]
    },
    {
      "cell_type": "markdown",
      "metadata": {
        "id": "x3IKjlM_I4do"
      },
      "source": [
        "#Text Preprocessing coding and Ready to use function\n"
      ]
    },
    {
      "cell_type": "code",
      "metadata": {
        "id": "Dxd18phbJABh"
      },
      "source": [
        "import string"
      ],
      "execution_count": null,
      "outputs": []
    },
    {
      "cell_type": "code",
      "metadata": {
        "id": "yjkiQXDMJCxT"
      },
      "source": [
        "text = \" Welcome!! this is a project of 'NLP', to process the --$ DATA $ --\""
      ],
      "execution_count": null,
      "outputs": []
    },
    {
      "cell_type": "code",
      "metadata": {
        "colab": {
          "base_uri": "https://localhost:8080/",
          "height": 72
        },
        "id": "Yhkd60N7Jk3Q",
        "outputId": "0d3c340c-38c1-4619-8921-6b968fa238b6"
      },
      "source": [
        "finalText= []\n",
        "for char in text:\n",
        "  if char not in string.punctuation:\n",
        "    finalText.append(char)\n",
        "\n",
        "print(finalText)\n",
        "#Sentance\n",
        "sentance = ''.join(finalText)\n",
        "sentance "
      ],
      "execution_count": null,
      "outputs": [
        {
          "output_type": "stream",
          "text": [
            "[' ', 'W', 'e', 'l', 'c', 'o', 'm', 'e', ' ', 't', 'h', 'i', 's', ' ', 'i', 's', ' ', 'a', ' ', 'p', 'r', 'o', 'j', 'e', 'c', 't', ' ', 'o', 'f', ' ', 'N', 'L', 'P', ' ', 't', 'o', ' ', 'p', 'r', 'o', 'c', 'e', 's', 's', ' ', 't', 'h', 'e', ' ', ' ', 'D', 'A', 'T', 'A', ' ', ' ']\n"
          ],
          "name": "stdout"
        },
        {
          "output_type": "execute_result",
          "data": {
            "application/vnd.google.colaboratory.intrinsic+json": {
              "type": "string"
            },
            "text/plain": [
              "' Welcome this is a project of NLP to process the  DATA  '"
            ]
          },
          "metadata": {
            "tags": []
          },
          "execution_count": 58
        }
      ]
    },
    {
      "cell_type": "markdown",
      "metadata": {
        "id": "lNiZe4R4LOD5"
      },
      "source": [
        "# Removal of stop words"
      ]
    },
    {
      "cell_type": "code",
      "metadata": {
        "colab": {
          "base_uri": "https://localhost:8080/"
        },
        "id": "6_RbCjD7LSwX",
        "outputId": "6a3ce68f-4448-49c0-c6b8-aab1a58691ab"
      },
      "source": [
        "import nltk\n",
        "nltk.download('stopwords')"
      ],
      "execution_count": null,
      "outputs": [
        {
          "output_type": "stream",
          "text": [
            "[nltk_data] Downloading package stopwords to /root/nltk_data...\n",
            "[nltk_data]   Unzipping corpora/stopwords.zip.\n"
          ],
          "name": "stdout"
        },
        {
          "output_type": "execute_result",
          "data": {
            "text/plain": [
              "True"
            ]
          },
          "metadata": {
            "tags": []
          },
          "execution_count": 59
        }
      ]
    },
    {
      "cell_type": "code",
      "metadata": {
        "colab": {
          "base_uri": "https://localhost:8080/"
        },
        "id": "cCptyFvmLZrR",
        "outputId": "58f55288-ff95-441d-d061-d438b7aa9c1d"
      },
      "source": [
        "\n",
        "from nltk.corpus import stopwords\n",
        "\n",
        "words = sentance.split()\n",
        "words\n"
      ],
      "execution_count": null,
      "outputs": [
        {
          "output_type": "execute_result",
          "data": {
            "text/plain": [
              "['Welcome',\n",
              " 'this',\n",
              " 'is',\n",
              " 'a',\n",
              " 'project',\n",
              " 'of',\n",
              " 'NLP',\n",
              " 'to',\n",
              " 'process',\n",
              " 'the',\n",
              " 'DATA']"
            ]
          },
          "metadata": {
            "tags": []
          },
          "execution_count": 60
        }
      ]
    },
    {
      "cell_type": "code",
      "metadata": {
        "colab": {
          "base_uri": "https://localhost:8080/"
        },
        "id": "b4BubOQgMG0Q",
        "outputId": "94043bbb-b56f-4e09-f5c9-b9fe28476dd9"
      },
      "source": [
        "removestopwords = []\n",
        "for stword in words:\n",
        "  if stword.lower() not in stopwords.words('english'):\n",
        "    removestopwords.append(stword)\n",
        "removestopwords   "
      ],
      "execution_count": null,
      "outputs": [
        {
          "output_type": "execute_result",
          "data": {
            "text/plain": [
              "['Welcome', 'project', 'NLP', 'process', 'DATA']"
            ]
          },
          "metadata": {
            "tags": []
          },
          "execution_count": 61
        }
      ]
    },
    {
      "cell_type": "code",
      "metadata": {
        "id": "mTclShR7NJEY"
      },
      "source": [
        ""
      ],
      "execution_count": null,
      "outputs": []
    },
    {
      "cell_type": "markdown",
      "metadata": {
        "id": "RKD-Z_PyOTxh"
      },
      "source": [
        "# Function for text preprocessing in any project"
      ]
    },
    {
      "cell_type": "code",
      "metadata": {
        "id": "q-doFCQJOfjD"
      },
      "source": [
        "import string\n",
        "from nltk.corpus import stopwords\n",
        "\n",
        "\n",
        "def textpreprocessor(text_Data):\n",
        "  #Remove Punctuations\n",
        "  removal_pun = [char for char in text_Data if char not in string.punctuation]\n",
        "  stntance = ''.join(removal_pun)\n",
        "  #Convert Sentence to words\n",
        "  words =sentance.split()\n",
        "  #Remove Stopwords\n",
        "  stopwords_removal = [stwords for stwords in words if stwords.lower() not in  stopwords.words('english')]\n",
        "  return stopwords_removal\n"
      ],
      "execution_count": null,
      "outputs": []
    },
    {
      "cell_type": "code",
      "metadata": {
        "colab": {
          "base_uri": "https://localhost:8080/"
        },
        "id": "LY2_Fu76Ow8V",
        "outputId": "ab50f701-6104-458f-9b52-60e180b9e8e2"
      },
      "source": [
        "textpreprocessor(\"Welcome!! this is a project of 'NLP', to process the --$ DATA $ --\")"
      ],
      "execution_count": null,
      "outputs": [
        {
          "output_type": "execute_result",
          "data": {
            "text/plain": [
              "['Welcome', 'project', 'NLP', 'process', 'DATA']"
            ]
          },
          "metadata": {
            "tags": []
          },
          "execution_count": 40
        }
      ]
    },
    {
      "cell_type": "markdown",
      "metadata": {
        "id": "jJWLQixESMsQ"
      },
      "source": [
        "# Project --- SMS Spam classification"
      ]
    },
    {
      "cell_type": "code",
      "metadata": {
        "id": "6-ck7R2GSbtk"
      },
      "source": [
        "import numpy as np\n",
        "import pandas as pd\n",
        "import matplotlib.pyplot as plt\n",
        "#import matplotlib_inline\n",
        "import seaborn as sns\n"
      ],
      "execution_count": null,
      "outputs": []
    },
    {
      "cell_type": "code",
      "metadata": {
        "colab": {
          "base_uri": "https://localhost:8080/",
          "height": 205
        },
        "id": "UUEX_-atSt93",
        "outputId": "69678147-ea07-44bb-ca97-8f0cd4cfb8b1"
      },
      "source": [
        "data= pd.read_csv(\"/content/SMSSpamCollection\", sep='\\t',  header=None )\n",
        "data.columns=['labels', 'Message']\n",
        "data.head()"
      ],
      "execution_count": null,
      "outputs": [
        {
          "output_type": "execute_result",
          "data": {
            "text/html": [
              "<div>\n",
              "<style scoped>\n",
              "    .dataframe tbody tr th:only-of-type {\n",
              "        vertical-align: middle;\n",
              "    }\n",
              "\n",
              "    .dataframe tbody tr th {\n",
              "        vertical-align: top;\n",
              "    }\n",
              "\n",
              "    .dataframe thead th {\n",
              "        text-align: right;\n",
              "    }\n",
              "</style>\n",
              "<table border=\"1\" class=\"dataframe\">\n",
              "  <thead>\n",
              "    <tr style=\"text-align: right;\">\n",
              "      <th></th>\n",
              "      <th>labels</th>\n",
              "      <th>Message</th>\n",
              "    </tr>\n",
              "  </thead>\n",
              "  <tbody>\n",
              "    <tr>\n",
              "      <th>0</th>\n",
              "      <td>ham</td>\n",
              "      <td>Go until jurong point, crazy.. Available only ...</td>\n",
              "    </tr>\n",
              "    <tr>\n",
              "      <th>1</th>\n",
              "      <td>ham</td>\n",
              "      <td>Ok lar... Joking wif u oni...</td>\n",
              "    </tr>\n",
              "    <tr>\n",
              "      <th>2</th>\n",
              "      <td>spam</td>\n",
              "      <td>Free entry in 2 a wkly comp to win FA Cup fina...</td>\n",
              "    </tr>\n",
              "    <tr>\n",
              "      <th>3</th>\n",
              "      <td>ham</td>\n",
              "      <td>U dun say so early hor... U c already then say...</td>\n",
              "    </tr>\n",
              "    <tr>\n",
              "      <th>4</th>\n",
              "      <td>ham</td>\n",
              "      <td>Nah I don't think he goes to usf, he lives aro...</td>\n",
              "    </tr>\n",
              "  </tbody>\n",
              "</table>\n",
              "</div>"
            ],
            "text/plain": [
              "  labels                                            Message\n",
              "0    ham  Go until jurong point, crazy.. Available only ...\n",
              "1    ham                      Ok lar... Joking wif u oni...\n",
              "2   spam  Free entry in 2 a wkly comp to win FA Cup fina...\n",
              "3    ham  U dun say so early hor... U c already then say...\n",
              "4    ham  Nah I don't think he goes to usf, he lives aro..."
            ]
          },
          "metadata": {
            "tags": []
          },
          "execution_count": 165
        }
      ]
    },
    {
      "cell_type": "code",
      "metadata": {
        "id": "jhNT0eH9TJhH"
      },
      "source": [
        "import string\n",
        "from nltk.corpus import stopwords\n",
        "\n",
        "\n",
        "def textpreprocessor(text_Data):\n",
        "  #Remove Punctuations\n",
        "  removal_pun = [char for char in text_Data if char not in string.punctuation]\n",
        "  sentance = ''.join(removal_pun)\n",
        "  #Convert Sentence to words\n",
        "  words =sentance.split()\n",
        "  #Remove Stopwords\n",
        "  stopwords_removal = [stwords for stwords in words if stwords.lower() not in  stopwords.words('english')]\n",
        "  return stopwords_removal\n"
      ],
      "execution_count": null,
      "outputs": []
    },
    {
      "cell_type": "code",
      "metadata": {
        "colab": {
          "base_uri": "https://localhost:8080/"
        },
        "id": "U6K0XtXWo6My",
        "outputId": "6a8c2504-de69-43c9-b970-75c2246460bb"
      },
      "source": [
        "print(data.info())\n"
      ],
      "execution_count": null,
      "outputs": [
        {
          "output_type": "stream",
          "text": [
            "<class 'pandas.core.frame.DataFrame'>\n",
            "RangeIndex: 5572 entries, 0 to 5571\n",
            "Data columns (total 2 columns):\n",
            " #   Column   Non-Null Count  Dtype \n",
            "---  ------   --------------  ----- \n",
            " 0   labels   5572 non-null   object\n",
            " 1   Message  5572 non-null   object\n",
            "dtypes: object(2)\n",
            "memory usage: 87.2+ KB\n",
            "None\n"
          ],
          "name": "stdout"
        }
      ]
    },
    {
      "cell_type": "code",
      "metadata": {
        "colab": {
          "base_uri": "https://localhost:8080/"
        },
        "id": "TboI7v-mpM0U",
        "outputId": "5af5e5c7-4274-404a-e5b0-3410714e3b2d"
      },
      "source": [
        "data.labels.value_counts()"
      ],
      "execution_count": null,
      "outputs": [
        {
          "output_type": "execute_result",
          "data": {
            "text/plain": [
              "ham     4825\n",
              "spam     747\n",
              "Name: labels, dtype: int64"
            ]
          },
          "metadata": {
            "tags": []
          },
          "execution_count": 168
        }
      ]
    },
    {
      "cell_type": "code",
      "metadata": {
        "colab": {
          "base_uri": "https://localhost:8080/",
          "height": 317
        },
        "id": "X0sefGF4pNIQ",
        "outputId": "3d21827d-fe0e-4724-bfdd-e59d82c8eee5"
      },
      "source": [
        "plt.hist(data[data.labels == 'spam']['Message'].apply(len),)"
      ],
      "execution_count": null,
      "outputs": [
        {
          "output_type": "execute_result",
          "data": {
            "text/plain": [
              "(array([  7.,  16.,  23.,  24.,  54., 121., 408.,  89.,   4.,   1.]),\n",
              " array([ 13.,  34.,  55.,  76.,  97., 118., 139., 160., 181., 202., 223.]),\n",
              " <a list of 10 Patch objects>)"
            ]
          },
          "metadata": {
            "tags": []
          },
          "execution_count": 169
        },
        {
          "output_type": "display_data",
          "data": {
            "image/png": "[encoded data removed]",
            "text/plain": [
              "<Figure size 432x288 with 1 Axes>"
            ]
          },
          "metadata": {
            "tags": [],
            "needs_background": "light"
          }
        }
      ]
    },
    {
      "cell_type": "code",
      "metadata": {
        "colab": {
          "base_uri": "https://localhost:8080/",
          "height": 351
        },
        "id": "h37kfAtJpHDN",
        "outputId": "b5292788-3954-4e0b-8fb0-50126976e82f"
      },
      "source": [
        "plt.hist(data[data.labels == 'ham']['Message'].apply(len), )"
      ],
      "execution_count": null,
      "outputs": [
        {
          "output_type": "execute_result",
          "data": {
            "text/plain": [
              "(array([3.615e+03, 1.075e+03, 7.400e+01, 3.800e+01, 1.400e+01, 3.000e+00,\n",
              "        4.000e+00, 0.000e+00, 1.000e+00, 1.000e+00]),\n",
              " array([  2. ,  92.8, 183.6, 274.4, 365.2, 456. , 546.8, 637.6, 728.4,\n",
              "        819.2, 910. ]),\n",
              " <a list of 10 Patch objects>)"
            ]
          },
          "metadata": {
            "tags": []
          },
          "execution_count": 172
        },
        {
          "output_type": "display_data",
          "data": {
            "image/png": "[encoded data removed]",
            "text/plain": [
              "<Figure size 432x288 with 1 Axes>"
            ]
          },
          "metadata": {
            "tags": [],
            "needs_background": "light"
          }
        }
      ]
    },
    {
      "cell_type": "code",
      "metadata": {
        "id": "eDtI-ctMq_P0"
      },
      "source": [
        "from sklearn.feature_extraction.text import CountVectorizer\n",
        "wordVector = CountVectorizer(analyzer=textpreprocessor)\n",
        "finalWordVectorCreator = wordVector.fit(data['Message'])"
      ],
      "execution_count": null,
      "outputs": []
    },
    {
      "cell_type": "code",
      "metadata": {
        "id": "JVoKJo2Grdhi"
      },
      "source": [
        "bag_of_words= finalWordVectorCreator.transform(data['Message'])"
      ],
      "execution_count": null,
      "outputs": []
    },
    {
      "cell_type": "code",
      "metadata": {
        "id": "6GL_7zbBsrra"
      },
      "source": [
        "from sklearn.feature_extraction.text import TfidfTransformer\n",
        "tf_idf = TfidfTransformer().fit(bag_of_words)  # TF-IDF"
      ],
      "execution_count": null,
      "outputs": []
    },
    {
      "cell_type": "code",
      "metadata": {
        "id": "H9FYZyy-tFZQ"
      },
      "source": [
        "#Create Features\n",
        "\n",
        "features= tf_idf.transform(bag_of_words)"
      ],
      "execution_count": null,
      "outputs": []
    },
    {
      "cell_type": "markdown",
      "metadata": {
        "id": "Nsp5zWmN3xwk"
      },
      "source": [
        "# Model Creation and Prediction\n"
      ]
    },
    {
      "cell_type": "code",
      "metadata": {
        "colab": {
          "base_uri": "https://localhost:8080/"
        },
        "id": "ELn57wU78b1H",
        "outputId": "8cc16209-d5e6-48eb-94be-a6b09865ace2"
      },
      "source": [
        "from sklearn.naive_bayes import MultinomialNB #Best for Text Data Features\n",
        "model = MultinomialNB()\n",
        "model.fit(features,data['labels'])"
      ],
      "execution_count": null,
      "outputs": [
        {
          "output_type": "execute_result",
          "data": {
            "text/plain": [
              "MultinomialNB(alpha=1.0, class_prior=None, fit_prior=True)"
            ]
          },
          "metadata": {
            "tags": []
          },
          "execution_count": 177
        }
      ]
    },
    {
      "cell_type": "code",
      "metadata": {
        "colab": {
          "base_uri": "https://localhost:8080/"
        },
        "id": "3mojBFns8b4c",
        "outputId": "3a9450be-0c12-454f-8b93-d40b46369366"
      },
      "source": [
        "model.score(features,data['labels'])"
      ],
      "execution_count": null,
      "outputs": [
        {
          "output_type": "execute_result",
          "data": {
            "text/plain": [
              "0.9793610911701364"
            ]
          },
          "metadata": {
            "tags": []
          },
          "execution_count": 178
        }
      ]
    },
    {
      "cell_type": "markdown",
      "metadata": {
        "id": "7fr68NLJ4Mk7"
      },
      "source": [
        "## Prediction given by model\n"
      ]
    },
    {
      "cell_type": "code",
      "metadata": {
        "colab": {
          "base_uri": "https://localhost:8080/"
        },
        "id": "qZ0IrbKs4QNt",
        "outputId": "03f0fe0f-d3ad-4574-f8e0-7e51abbd969f"
      },
      "source": [
        "#Realtime Input Example\n",
        "inputSMS = input(\"Enter SMS to check: \")\n",
        "preprocessing = textpreprocessor(inputSMS)\n",
        "bowText = finalWordVectorCreator.transform(preprocessing)\n",
        "featureText = tf_idf.transform(bowText)\n",
        "predict = model.predict(featureText)[0]\n",
        "print(\"Given SMS is a {} SMS\".format(predict))"
      ],
      "execution_count": null,
      "outputs": [
        {
          "output_type": "stream",
          "text": [
            "Enter SMS to check: Win Lottery Guaranteed!!!\n",
            "Given SMS is a spam SMS\n"
          ],
          "name": "stdout"
        }
      ]
    }
  ]
}