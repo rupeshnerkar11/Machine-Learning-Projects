{
  "nbformat": 4,
  "nbformat_minor": 0,
  "metadata": {
    "colab": {
      "name": "M3_BoardGame_review_pridction.ipynb",
      "provenance": [],
      "authorship_tag": "ABX9TyN/p5mlcijZ99VWNwy3l/eo",
      "include_colab_link": true
    },
    "kernelspec": {
      "name": "python3",
      "display_name": "Python 3"
    },
    "language_info": {
      "name": "python"
    }
  },
  "cells": [
    {
      "cell_type": "markdown",
      "metadata": {
        "id": "view-in-github",
        "colab_type": "text"
      },
      "source": [
        "<a href=\"https://colab.research.google.com/github/rupeshnerkar11/Machine-Learning-Projects/blob/main/M3_BoardGame_review_pridction.ipynb\" target=\"_parent\"><img src=\"https://colab.research.google.com/assets/colab-badge.svg\" alt=\"Open In Colab\"/></a>"
      ]
    },
    {
      "cell_type": "markdown",
      "metadata": {
        "id": "eTtxwKspo0dd"
      },
      "source": [
        "#Board Game review Prediction"
      ]
    },
    {
      "cell_type": "markdown",
      "metadata": {
        "id": "dj7K60Q2pAEE"
      },
      "source": [
        "## Importing Data set from Git Repository`"
      ]
    },
    {
      "cell_type": "code",
      "metadata": {
        "colab": {
          "base_uri": "https://localhost:8080/"
        },
        "id": "L59nIaSdwL_l",
        "outputId": "10612621-57a4-4860-a128-4738b7062119"
      },
      "source": [
        "# Clone the entire repo.\n",
        "!git clone -l -s git://github.com/ThaWeatherman/scrapers\n",
        "%cd cloned-repo\n",
        "!ls"
      ],
      "execution_count": null,
      "outputs": [
        {
          "output_type": "stream",
          "text": [
            "Cloning into 'scrapers'...\n",
            "warning: --local is ignored\n",
            "remote: Enumerating objects: 133, done.\u001b[K\n",
            "remote: Total 133 (delta 0), reused 0 (delta 0), pack-reused 133\u001b[K\n",
            "Receiving objects: 100% (133/133), 2.74 MiB | 18.96 MiB/s, done.\n",
            "Resolving deltas: 100% (47/47), done.\n",
            "[Errno 2] No such file or directory: 'cloned-repo'\n",
            "/content\n",
            "sample_data  scrapers\n"
          ],
          "name": "stdout"
        }
      ]
    },
    {
      "cell_type": "code",
      "metadata": {
        "colab": {
          "base_uri": "https://localhost:8080/"
        },
        "id": "kb5QE2GcwL_n",
        "outputId": "fa104086-94bc-4dcb-d4ae-280a350b6a4b"
      },
      "source": [
        "# Fetch a single <1MB file using the raw GitHub URL.\n",
        "!curl --remote-name \\\n",
        "     -H 'Accept: application/vnd.github.v3.raw' \\\n",
        "     --location https://raw.githubusercontent.com/ThaWeatherman/scrapers/master/boardgamegeek/games.csv"
      ],
      "execution_count": null,
      "outputs": [
        {
          "output_type": "stream",
          "text": [
            "  % Total    % Received % Xferd  Average Speed   Time    Time     Time  Current\n",
            "                                 Dload  Upload   Total   Spent    Left  Speed\n",
            "100 6837k  100 6837k    0     0  34.9M      0 --:--:-- --:--:-- --:--:-- 34.9M\n"
          ],
          "name": "stdout"
        }
      ]
    },
    {
      "cell_type": "code",
      "metadata": {
        "id": "RdfWH6B0s6BQ"
      },
      "source": [
        "import pandas as pd\n",
        "import numpy as np\n",
        "import matplotlib.pyplot as plt\n",
        "import matplotlib_inline\n",
        "%matplotlib inline\n",
        "import sys\n",
        "import seaborn as sns\n",
        "from sklearn.model_selection import train_test_split"
      ],
      "execution_count": null,
      "outputs": []
    },
    {
      "cell_type": "markdown",
      "metadata": {
        "id": "hV3WQ_eUpGBS"
      },
      "source": [
        "## Loadind Data and EDA"
      ]
    },
    {
      "cell_type": "code",
      "metadata": {
        "id": "0A17Y7sYtrBj"
      },
      "source": [
        "game = pd.read_csv('/content/games.csv')"
      ],
      "execution_count": null,
      "outputs": []
    },
    {
      "cell_type": "code",
      "metadata": {
        "colab": {
          "base_uri": "https://localhost:8080/"
        },
        "id": "snfgSyVLuf_j",
        "outputId": "f8a5ff7a-6937-4ed3-8ab2-ad697260c50a"
      },
      "source": [
        "print(game.columns)\n",
        "print(game.shape)\n",
        "# we are concern of  'average_rating'"
      ],
      "execution_count": null,
      "outputs": [
        {
          "output_type": "stream",
          "text": [
            "Index(['id', 'type', 'name', 'yearpublished', 'minplayers', 'maxplayers',\n",
            "       'playingtime', 'minplaytime', 'maxplaytime', 'minage', 'users_rated',\n",
            "       'average_rating', 'bayes_average_rating', 'total_owners',\n",
            "       'total_traders', 'total_wanters', 'total_wishers', 'total_comments',\n",
            "       'total_weights', 'average_weight'],\n",
            "      dtype='object')\n",
            "(81312, 20)\n"
          ],
          "name": "stdout"
        }
      ]
    },
    {
      "cell_type": "code",
      "metadata": {
        "colab": {
          "base_uri": "https://localhost:8080/",
          "height": 265
        },
        "id": "GR4x89qlw_l6",
        "outputId": "3bcdde02-dd12-4761-decd-917e32312113"
      },
      "source": [
        "plt.hist(game[\"average_rating\"])\n",
        "plt.show()"
      ],
      "execution_count": null,
      "outputs": [
        {
          "output_type": "display_data",
          "data": {
            "image/png": "[encoded data removed]",
            "text/plain": [
              "<Figure size 432x288 with 1 Axes>"
            ]
          },
          "metadata": {
            "tags": [],
            "needs_background": "light"
          }
        }
      ]
    },
    {
      "cell_type": "code",
      "metadata": {
        "colab": {
          "base_uri": "https://localhost:8080/"
        },
        "id": "W85CJgh4xlSn",
        "outputId": "5b6ef166-621b-45cb-c440-2e63ff5934c5"
      },
      "source": [
        "# print the frist row of all the games with zero scores\n",
        "\n",
        "print(game[game['average_rating'] == 0].iloc[0])\n",
        "\n",
        "# print the frist row of all the games with greater than zero scores\n",
        "\n",
        "print(game[game['average_rating'] > 0].iloc[0])"
      ],
      "execution_count": null,
      "outputs": [
        {
          "output_type": "stream",
          "text": [
            "id                             318\n",
            "type                     boardgame\n",
            "name                    Looney Leo\n",
            "yearpublished                    0\n",
            "minplayers                       0\n",
            "maxplayers                       0\n",
            "playingtime                      0\n",
            "minplaytime                      0\n",
            "maxplaytime                      0\n",
            "minage                           0\n",
            "users_rated                      0\n",
            "average_rating                   0\n",
            "bayes_average_rating             0\n",
            "total_owners                     0\n",
            "total_traders                    0\n",
            "total_wanters                    0\n",
            "total_wishers                    1\n",
            "total_comments                   0\n",
            "total_weights                    0\n",
            "average_weight                   0\n",
            "Name: 13048, dtype: object\n",
            "id                                  12333\n",
            "type                            boardgame\n",
            "name                    Twilight Struggle\n",
            "yearpublished                        2005\n",
            "minplayers                              2\n",
            "maxplayers                              2\n",
            "playingtime                           180\n",
            "minplaytime                           180\n",
            "maxplaytime                           180\n",
            "minage                                 13\n",
            "users_rated                         20113\n",
            "average_rating                    8.33774\n",
            "bayes_average_rating              8.22186\n",
            "total_owners                        26647\n",
            "total_traders                         372\n",
            "total_wanters                        1219\n",
            "total_wishers                        5865\n",
            "total_comments                       5347\n",
            "total_weights                        2562\n",
            "average_weight                     3.4785\n",
            "Name: 0, dtype: object\n"
          ],
          "name": "stdout"
        }
      ]
    },
    {
      "cell_type": "code",
      "metadata": {
        "colab": {
          "base_uri": "https://localhost:8080/",
          "height": 265
        },
        "id": "ytzDtCXC0EP9",
        "outputId": "20dacda2-dfe1-4621-9812-0367afcda98e"
      },
      "source": [
        "# To remove rows without user rartings\n",
        "game = game[game['average_rating'] > 0]\n",
        "\n",
        "# to remove rows with missing values\n",
        "game = game.dropna(axis=0)\n",
        "\n",
        "plt.hist(game[\"average_rating\"])\n",
        "plt.show()"
      ],
      "execution_count": null,
      "outputs": [
        {
          "output_type": "display_data",
          "data": {
            "image/png": "[encoded data removed]",
            "text/plain": [
              "<Figure size 432x288 with 1 Axes>"
            ]
          },
          "metadata": {
            "tags": [],
            "needs_background": "light"
          }
        }
      ]
    },
    {
      "cell_type": "code",
      "metadata": {
        "colab": {
          "base_uri": "https://localhost:8080/",
          "height": 696
        },
        "id": "QCyMezqjBjzm",
        "outputId": "0db27032-1062-4fd9-f220-7c1b4316c06e"
      },
      "source": [
        "# correlation matrix\n",
        "corr= game.corr()\n",
        "fig = plt.figure(figsize=(15,10))\n",
        "\n",
        "sns.heatmap(corr, vmax= 1, square= True)\n",
        "plt.show()"
      ],
      "execution_count": null,
      "outputs": [
        {
          "output_type": "display_data",
          "data": {
            "image/png": "[encoded data removed]",
            "text/plain": [
              "<Figure size 1080x720 with 2 Axes>"
            ]
          },
          "metadata": {
            "tags": [],
            "needs_background": "light"
          }
        }
      ]
    },
    {
      "cell_type": "code",
      "metadata": {
        "id": "ZzsoOGUlCKVy"
      },
      "source": [
        "# Data preprocesing getting all column data from the DAta frame\n",
        "columns = game.columns.tolist()\n",
        "\n",
        "# filtering tyhe column to remove the data\n",
        "\n",
        "columns= [c for c in columns if c not in ['id', 'type', 'name','average_rating', 'bayes_average_rating']]\n",
        "\n",
        "# vriable that will be predicted is stored here\n",
        "target = \"average_rating\"\n",
        "\n"
      ],
      "execution_count": null,
      "outputs": []
    },
    {
      "cell_type": "code",
      "metadata": {
        "colab": {
          "base_uri": "https://localhost:8080/"
        },
        "id": "YmhV7n5GBoXh",
        "outputId": "15824ad8-5978-481d-dcf9-06155c20faf0"
      },
      "source": [
        "# genetaring testing and training data set\n",
        "\n",
        "from sklearn.model_selection import train_test_split\n",
        "\n",
        "train = game.sample(frac= 0.8, random_state= 1)\n",
        "\n",
        "test = game.loc[~game.index.isin(train.index)]\n",
        "\n",
        "\n",
        "print(train.shape)\n",
        "print(test.shape)"
      ],
      "execution_count": null,
      "outputs": [
        {
          "output_type": "stream",
          "text": [
            "(45515, 20)\n",
            "(11379, 20)\n"
          ],
          "name": "stdout"
        }
      ]
    },
    {
      "cell_type": "markdown",
      "metadata": {
        "id": "bvvjQf50ohcL"
      },
      "source": [
        "# Logistic Regression"
      ]
    },
    {
      "cell_type": "code",
      "metadata": {
        "colab": {
          "base_uri": "https://localhost:8080/"
        },
        "id": "PhMn_s-oCPdc",
        "outputId": "d2c0f23c-9fc1-4245-d0b5-26198f01596a"
      },
      "source": [
        "# Using Models\n",
        "\n",
        "from sklearn.linear_model import LinearRegression\n",
        "from sklearn.metrics import mean_squared_error\n",
        "\n",
        "LRmodel = LinearRegression()\n",
        "\n",
        "LRmodel.fit(train[columns], train[target])\n",
        "\n"
      ],
      "execution_count": null,
      "outputs": [
        {
          "output_type": "execute_result",
          "data": {
            "text/plain": [
              "LinearRegression(copy_X=True, fit_intercept=True, n_jobs=None, normalize=False)"
            ]
          },
          "metadata": {
            "tags": []
          },
          "execution_count": 31
        }
      ]
    },
    {
      "cell_type": "code",
      "metadata": {
        "colab": {
          "base_uri": "https://localhost:8080/"
        },
        "id": "Ms23YevXFJr1",
        "outputId": "04c07949-e8de-486c-8e00-85d00a74e7e6"
      },
      "source": [
        "# Generation of prediction\n",
        "prediction = LRmodel.predict(test[columns])\n",
        "\n",
        "# computing the erroe between training and testing\n",
        "mean_squared_error(prediction, test[target])"
      ],
      "execution_count": null,
      "outputs": [
        {
          "output_type": "execute_result",
          "data": {
            "text/plain": [
              "2.078819032629323"
            ]
          },
          "metadata": {
            "tags": []
          },
          "execution_count": 32
        }
      ]
    },
    {
      "cell_type": "code",
      "metadata": {
        "id": "-PqGuj0KGLqt"
      },
      "source": [
        "# Not too good not too bad\n",
        "\n",
        "# this is not a linear data so this is not a perfect fit model\n",
        "\n"
      ],
      "execution_count": null,
      "outputs": []
    },
    {
      "cell_type": "markdown",
      "metadata": {
        "id": "H5UyKlKyoYtK"
      },
      "source": [
        "# Random Forest Regressor"
      ]
    },
    {
      "cell_type": "code",
      "metadata": {
        "colab": {
          "base_uri": "https://localhost:8080/"
        },
        "id": "h2xkVGPGGqD0",
        "outputId": "30ef1bfc-a64d-4a6e-98f4-2bf9aded2538"
      },
      "source": [
        "from sklearn.ensemble import RandomForestRegressor\n",
        "\n",
        "RFRmodel = RandomForestRegressor(n_estimators= 100,min_samples_leaf=10,random_state=1)\n",
        "\n",
        "\n",
        "RFRmodel.fit(train[columns], train[target])\n"
      ],
      "execution_count": null,
      "outputs": [
        {
          "output_type": "execute_result",
          "data": {
            "text/plain": [
              "RandomForestRegressor(bootstrap=True, ccp_alpha=0.0, criterion='mse',\n",
              "                      max_depth=None, max_features='auto', max_leaf_nodes=None,\n",
              "                      max_samples=None, min_impurity_decrease=0.0,\n",
              "                      min_impurity_split=None, min_samples_leaf=10,\n",
              "                      min_samples_split=2, min_weight_fraction_leaf=0.0,\n",
              "                      n_estimators=100, n_jobs=None, oob_score=False,\n",
              "                      random_state=1, verbose=0, warm_start=False)"
            ]
          },
          "metadata": {
            "tags": []
          },
          "execution_count": 34
        }
      ]
    },
    {
      "cell_type": "code",
      "metadata": {
        "colab": {
          "base_uri": "https://localhost:8080/"
        },
        "id": "Ytkuocv5J_82",
        "outputId": "8cf6f149-919b-449a-c242-129e5c4b0d36"
      },
      "source": [
        "test[columns].iloc[0]"
      ],
      "execution_count": null,
      "outputs": [
        {
          "output_type": "execute_result",
          "data": {
            "text/plain": [
              "yearpublished      2011.0000\n",
              "minplayers            2.0000\n",
              "maxplayers            6.0000\n",
              "playingtime         200.0000\n",
              "minplaytime          60.0000\n",
              "maxplaytime         200.0000\n",
              "minage               14.0000\n",
              "users_rated       15709.0000\n",
              "total_owners      17611.0000\n",
              "total_traders       273.0000\n",
              "total_wanters      1108.0000\n",
              "total_wishers      5581.0000\n",
              "total_comments     3188.0000\n",
              "total_weights      1486.0000\n",
              "average_weight        3.6359\n",
              "Name: 9, dtype: float64"
            ]
          },
          "metadata": {
            "tags": []
          },
          "execution_count": 42
        }
      ]
    },
    {
      "cell_type": "code",
      "metadata": {
        "colab": {
          "base_uri": "https://localhost:8080/"
        },
        "id": "o8aEp-1tHUkq",
        "outputId": "2ceab565-88d3-4807-8a32-0f034b1aff92"
      },
      "source": [
        "# Prdictions\n",
        "\n",
        "prediction = RFRmodel.predict(test[columns])\n",
        "\n",
        "\n",
        "#error computing\n",
        "\n",
        "mean_squared_error(prediction, test[target])"
      ],
      "execution_count": null,
      "outputs": [
        {
          "output_type": "execute_result",
          "data": {
            "text/plain": [
              "1.4458560046071653"
            ]
          },
          "metadata": {
            "tags": []
          },
          "execution_count": 38
        }
      ]
    },
    {
      "cell_type": "code",
      "metadata": {
        "id": "yKxkUzW2Ikwf"
      },
      "source": [
        "rating_LR = LRmodel.predict(test[columns].iloc[0].values.reshape(1,-1))\n",
        "\n",
        "rating_RFR = RFRmodel.predict(test[columns].iloc[0].values.reshape(1,-1))"
      ],
      "execution_count": null,
      "outputs": []
    },
    {
      "cell_type": "code",
      "metadata": {
        "colab": {
          "base_uri": "https://localhost:8080/"
        },
        "id": "WeovcS8iJaud",
        "outputId": "14a02c6c-6be0-4254-a85b-517b5588cd8e"
      },
      "source": [
        "print(rating_LR)\n",
        "\n",
        "print(rating_RFR)"
      ],
      "execution_count": null,
      "outputs": [
        {
          "output_type": "stream",
          "text": [
            "[8.12061283]\n",
            "[7.91373581]\n"
          ],
          "name": "stdout"
        }
      ]
    },
    {
      "cell_type": "code",
      "metadata": {
        "colab": {
          "base_uri": "https://localhost:8080/"
        },
        "id": "34hP7gFqJ1Zu",
        "outputId": "17886bd4-184f-46e9-b096-3331bc8ae55f"
      },
      "source": [
        "test[target].iloc[0]"
      ],
      "execution_count": null,
      "outputs": [
        {
          "output_type": "execute_result",
          "data": {
            "text/plain": [
              "8.07933"
            ]
          },
          "metadata": {
            "tags": []
          },
          "execution_count": 46
        }
      ]
    },
    {
      "cell_type": "code",
      "metadata": {
        "id": "1DaQJHQBKZ_P"
      },
      "source": [
        "# Hence we are able to predict the ratings and prediction through Random Froest Regresssion \n",
        "# nearly close to the actual value"
      ],
      "execution_count": null,
      "outputs": []
    }
  ]
}
